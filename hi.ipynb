{
 "cells": [
  {
   "cell_type": "code",
   "execution_count": 10,
   "metadata": {},
   "outputs": [],
   "source": [
    "# Import các thư viện cần thiết\n",
    "from sklearn.model_selection import train_test_split  # Chia dữ liệu thành training set và testing set\n",
    "from sklearn.neural_network import MLPClassifier  # Mô hình mạng neuron đa tầng để phân loại khuôn mặt\n",
    "from sklearn.metrics import classification_report  # Báo cáo đánh giá mô hình\n",
    "from HALS import HALS_RRI2\n",
    "import matplotlib.pyplot as plt  # Thư viện trực quan hóa dữ liệu\n",
    "import getdata\n"
   ]
  },
  {
   "cell_type": "code",
   "execution_count": 7,
   "metadata": {},
   "outputs": [],
   "source": [
    "# X: Dữ liệu hình ảnh khuôn mặt\n",
    "# y: Nhãn tương ứng với mỗi hình ảnh\n",
    "# target_names: Tên các người trong dataset\n",
    "X, y, target_names = getdata.get_lfw_people_with_100_images()\n",
    "# Lấy kích thước của hình ảnh khuôn mặt\n",
    "h, w = X.shape\n"
   ]
  },
  {
   "cell_type": "code",
   "execution_count": 8,
   "metadata": {},
   "outputs": [],
   "source": [
    "# Split into a training set and testing set\n",
    "X_train, X_test, y_train, y_test = train_test_split(X,y,test_size = 0.3)  "
   ]
  },
  {
   "cell_type": "code",
   "execution_count": 1,
   "metadata": {},
   "outputs": [
    {
     "ename": "NameError",
     "evalue": "name 'HALS_RRI2' is not defined",
     "output_type": "error",
     "traceback": [
      "\u001b[1;31m---------------------------------------------------------------------------\u001b[0m",
      "\u001b[1;31mNameError\u001b[0m                                 Traceback (most recent call last)",
      "Cell \u001b[1;32mIn [1], line 2\u001b[0m\n\u001b[0;32m      1\u001b[0m r \u001b[38;5;241m=\u001b[39m \u001b[38;5;241m20\u001b[39m  \u001b[38;5;66;03m# Số chiều dữ liệu sau khi giảm chiều\u001b[39;00m\n\u001b[1;32m----> 2\u001b[0m V_train \u001b[38;5;241m=\u001b[39m \u001b[43mHALS_RRI2\u001b[49m(X_train,r \u001b[38;5;241m=\u001b[39m r)\n\u001b[0;32m      3\u001b[0m V_test \u001b[38;5;241m=\u001b[39m HALS_RRI2(X_test,r \u001b[38;5;241m=\u001b[39m r)\n",
      "\u001b[1;31mNameError\u001b[0m: name 'HALS_RRI2' is not defined"
     ]
    }
   ],
   "source": [
    "r = 20  # Số chiều dữ liệu sau khi giảm chiều\n",
    "V_train = HALS_RRI2(X_train,r = r)\n",
    "V_test = HALS_RRI2(X_test,r = r)"
   ]
  },
  {
   "cell_type": "code",
   "execution_count": null,
   "metadata": {},
   "outputs": [],
   "source": [
    "print(\"Fitting the classifier to the training set\")\n",
    "clf = MLPClassifier(hidden_layer_sizes =(1024,), batch_size=256, verbose = True, early_stopping = True).fit(V_train, y_train)  # Sử dụng mô hình mạng neuron đa tầng để phân loại khuôn mặt\n",
    "\n",
    "y_pred = clf.predict(V_test)  # Dự đoán nhãn cho testing set\n",
    "\n",
    "print(classification_report(y_test, y_pred, target_names = target_names))  # Báo cáo đánh giá mô hình"
   ]
  },
  {
   "cell_type": "code",
   "execution_count": null,
   "metadata": {},
   "outputs": [],
   "source": [
    "def plot_gallery(images, titles, h, w, rows = 4, cols = 5):\n",
    "    plt.figure(figsize = (1.8 * cols, 2.4 * rows))\n",
    "    plt.subplots_adjust(bottom = 0, left = .01, right = .90, top = .90, hspace= .35)\n",
    "    for i in range(rows * cols):\n",
    "        plt.subplot(rows, cols, i + 1)\n",
    "        plt.imshow(images[i].reshape((h,w)), cmap=plt.cm.gray)\n",
    "        plt.title(titles[i],size = 12)\n",
    "        plt.xticks(())\n",
    "        plt.yticks(())\n",
    "\n",
    "def titles(y_pred, y_test, target_names):\n",
    "    for i in range(y_pred.shape[0]):\n",
    "        pred_name = target_names[y_pred[i]].split(' ')[-1]\n",
    "        true_name = target_names[y_test[i]].split(' ')[-1]\n",
    "        yield 'predicted: {0}\\ntrue: {1}'.format(pred_name, true_name)\n",
    "\n",
    "prediction_titles = list(titles(y_pred, y_test, target_names))\n",
    "plot_gallery(X_test, prediction_titles, h, w)\n",
    "eigenfaces = nmf.components_.reshape((r, h, w))\n",
    "eigenface_titles = [\"eigenface {0}\".format(i) for i in range(eigenfaces.shape[0])]\n",
    "plot_gallery(eigenfaces, eigenface_titles, h, w)\n",
    "plt.show()"
   ]
  }
 ],
 "metadata": {
  "kernelspec": {
   "display_name": "Python 3.9.1 64-bit",
   "language": "python",
   "name": "python3"
  },
  "language_info": {
   "codemirror_mode": {
    "name": "ipython",
    "version": 3
   },
   "file_extension": ".py",
   "mimetype": "text/x-python",
   "name": "python",
   "nbconvert_exporter": "python",
   "pygments_lexer": "ipython3",
   "version": "3.9.1"
  },
  "orig_nbformat": 4,
  "vscode": {
   "interpreter": {
    "hash": "530478d8c35344c29dc89412d29db80a41ae86fa2b85395f63f196569b6b9ead"
   }
  }
 },
 "nbformat": 4,
 "nbformat_minor": 2
}
