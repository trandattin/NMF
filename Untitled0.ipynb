{
  "cells": [
    {
      "cell_type": "code",
      "execution_count": 5,
      "metadata": {
        "id": "KcxgQaERbLF0"
      },
      "outputs": [],
      "source": [
        "# Import các thư viện cần thiết\n",
        "from sklearn.datasets import fetch_lfw_people  # Cung cấp dataset LFW (Labeled Faces in the Wild)\n",
        "from sklearn.model_selection import train_test_split  # Chia dữ liệu thành training set và testing set\n",
        "from sklearn.decomposition import NMF  # Sử dụng thuật toán NMF để giảm chiều dữ liệu\n",
        "from sklearn.neural_network import MLPClassifier  # Mô hình mạng neuron đa tầng để phân loại khuôn mặt\n",
        "from sklearn.metrics import classification_report  # Báo cáo đánh giá mô hình\n",
        "import matplotlib.pyplot as plt  # Thư viện trực quan hóa dữ liệu\n",
        "import numpy as np\n"
      ]
    },
    {
      "cell_type": "code",
      "execution_count": 2,
      "metadata": {
        "id": "OSqRUs77bR8y"
      },
      "outputs": [],
      "source": [
        "def get_lfw_people_with_100_images():\n",
        "    \"\"\"\n",
        "    Take the LFW dataset and filter out the people with exactly 100 images.\n",
        "    Return a tuple (data, target, names) with:\n",
        "    - data: a 2D array of size (n_samples, n_features) containing feature vectors of the images.\n",
        "    - target: a 1D array containing labels of each sample in the data.\n",
        "    - names: a list of names of each person in the dataset.\n",
        "    \"\"\"\n",
        "    lfw_dataset = fetch_lfw_people(min_faces_per_person=100)\n",
        "\n",
        "    # Get the labels of each person in the dataset.\n",
        "    unique_targets = np.unique(lfw_dataset.target)\n",
        "    \n",
        "    # Initialize a list to contain images of each person with exactly 100 images.\n",
        "    data_list = []\n",
        "    target_list = []\n",
        "    names_list = []\n",
        "\n",
        "    # Loop through the labels of each person.\n",
        "    for target in unique_targets:\n",
        "        # Takes the images of that person.\n",
        "        images = lfw_dataset.data[lfw_dataset.target == target]\n",
        "        \n",
        "        # If the number of images of that person is greater than 100, only take the first 100 images.\n",
        "        if len(images) > 100:\n",
        "            images = images[:100]\n",
        "        \n",
        "        # Add the image to the list.\n",
        "        data_list.append(images)\n",
        "        target_list.append(np.full((len(images),), target))\n",
        "        names_list.append(lfw_dataset.target_names[target])\n",
        "\n",
        "    # Combine the list of images into a 2-dimensional array.\n",
        "    data = np.concatenate(data_list)\n",
        "    target = np.concatenate(target_list)\n",
        "    names = np.array(names_list)\n",
        "    image_shape = (lfw_dataset.images.shape[1], lfw_dataset.images.shape[2])\n",
        "    \n",
        "    return data, target, names, image_shape"
      ]
    },
    {
      "cell_type": "code",
      "execution_count": 6,
      "metadata": {
        "id": "SF_eIP-Qbl5y"
      },
      "outputs": [],
      "source": [
        "def create_image_matrix(data):\n",
        "    \"\"\"\n",
        "    Create the V matrix from the LFW image dataset.\n",
        "    Return the V matrix with size (n_features, n_samples).\n",
        "    \"\"\"\n",
        "    return np.reshape(data, (data.shape[0], -1))"
      ]
    },
    {
      "cell_type": "code",
      "execution_count": 7,
      "metadata": {
        "id": "cpLERLnrbkr8"
      },
      "outputs": [],
      "source": [
        "data, target, target_names, image_shape = get_lfw_people_with_100_images()\n",
        "X = create_image_matrix(data)\n",
        "h,w = image_shape\n",
        "y = target  "
      ]
    },
    {
      "cell_type": "code",
      "execution_count": 8,
      "metadata": {
        "id": "XFKHXFaRbTT-"
      },
      "outputs": [],
      "source": [
        "X_train, X_test, y_train, y_test = train_test_split(X,y,test_size = 0.3)  # Chia dữ liệu thành training set và testing set với tỷ lệ 7:3\n"
      ]
    },
    {
      "cell_type": "code",
      "execution_count": 9,
      "metadata": {},
      "outputs": [
        {
          "name": "stdout",
          "output_type": "stream",
          "text": [
            "[4 4 2 0 0 2 0 2 2 4 3 4 0 3 1 3 4 4 3 0 3 4 4 3 1 2 4 0 3 1 0 3 1 3 1 2 3\n",
            " 2 0 4 1 3 4 4 2 0 0 2 0 0 2 4 1 4 3 0 0 2 2 1 2 2 0 2 1 2 3 4 0 1 0 4 2 3\n",
            " 3 3 3 0 1 2 2 2 1 3 4 1 4 4 2 3 3 2 1 2 1 0 0 1 2 3 1 2 4 1 0 2 3 0 4 1 4\n",
            " 4 4 1 3 0 3 0 3 4 2 1 0 1 1 1 1 4 0 0 3 1 1 3 4 3 2 2 3 4 4 1 3 0 4 0 0 3\n",
            " 2 1 1 2 0 4 2 3 3 4 1 1 4 3 1 4 1 4 4 0 0 0 0 1 1 2 3 2 1 3 2 0 2 4 4 3 1\n",
            " 1 4 1 1 3 1 0 3 0 3 3 0 4 4 4 4 1 4 4 3 3 2 3 4 4 1 4 2 0 2 4 0 3 3 3 2 1\n",
            " 1 0 1 3 1 1 3 2 1 2 2 2 1 3 2 4 2 2 3 1 0 4 2 1 2 0 1 4 3 0 0 2 2 4 3 1 4\n",
            " 0 0 4 1 3 1 1 2 0 0 2 4 3 3 1 3 3 0 1 0 2 2 3 3 0 0 1 1 2 0 1 1 4 4 2 1 4\n",
            " 4 3 4 4 1 2 0 0 2 3 2 0 3 4 4 0 2 0 4 0 1 3 0 2 3 3 0 0 4 4 3 2 1 3 0 1 2\n",
            " 4 3 4 2 0 4 2 0 1 2 0 0 1 3 4 2 4]\n"
          ]
        }
      ],
      "source": [
        "print(y_train)"
      ]
    },
    {
      "cell_type": "code",
      "execution_count": 21,
      "metadata": {
        "colab": {
          "base_uri": "https://localhost:8080/"
        },
        "id": "DXyoH9Ktbqx7",
        "outputId": "28738a6e-3001-478e-eb9e-70c079ba34ed"
      },
      "outputs": [
        {
          "name": "stderr",
          "output_type": "stream",
          "text": [
            "c:\\Users\\HL080221\\AppData\\Local\\Programs\\Python\\Python39\\lib\\site-packages\\sklearn\\decomposition\\_nmf.py:1665: ConvergenceWarning: Maximum number of iterations 200 reached. Increase it to improve convergence.\n",
            "  warnings.warn(\n",
            "c:\\Users\\HL080221\\AppData\\Local\\Programs\\Python\\Python39\\lib\\site-packages\\sklearn\\decomposition\\_nmf.py:1665: ConvergenceWarning: Maximum number of iterations 200 reached. Increase it to improve convergence.\n",
            "  warnings.warn(\n",
            "c:\\Users\\HL080221\\AppData\\Local\\Programs\\Python\\Python39\\lib\\site-packages\\sklearn\\decomposition\\_nmf.py:1665: ConvergenceWarning: Maximum number of iterations 200 reached. Increase it to improve convergence.\n",
            "  warnings.warn(\n"
          ]
        }
      ],
      "source": [
        "n_components = 150  # Số chiều dữ liệu sau khi giảm chiều\n",
        "\n",
        "# Compute a NMF\n",
        "nmf = NMF(n_components = n_components, init = 'random', random_state = 0).fit(X_train)  # Sử dụng thuật toán NMF để giảm chiều dữ liệu\n",
        "\n",
        "X_train_nmf = nmf.fit_transform(X_train)\n",
        "X_test_nmf = nmf.transform(X_test)\n"
      ]
    },
    {
      "cell_type": "code",
      "execution_count": 17,
      "metadata": {},
      "outputs": [
        {
          "name": "stdout",
          "output_type": "stream",
          "text": [
            "(350, 20)\n"
          ]
        }
      ],
      "source": [
        "print(X_train_nmf.shape)"
      ]
    },
    {
      "cell_type": "code",
      "execution_count": 23,
      "metadata": {
        "colab": {
          "base_uri": "https://localhost:8080/"
        },
        "id": "kgRtPzT2cM60",
        "outputId": "d1fa8dae-748e-452c-baa7-74e177f87e33"
      },
      "outputs": [
        {
          "name": "stdout",
          "output_type": "stream",
          "text": [
            "Fitting the classifier to the training set\n",
            "                   precision    recall  f1-score   support\n",
            "\n",
            "     Colin Powell       0.81      0.84      0.83        31\n",
            "  Donald Rumsfeld       0.92      0.79      0.85        29\n",
            "    George W Bush       0.82      0.88      0.85        32\n",
            "Gerhard Schroeder       0.88      0.70      0.78        30\n",
            "       Tony Blair       0.69      0.86      0.76        28\n",
            "\n",
            "         accuracy                           0.81       150\n",
            "        macro avg       0.82      0.81      0.81       150\n",
            "     weighted avg       0.82      0.81      0.81       150\n",
            "\n"
          ]
        }
      ],
      "source": [
        "# train a neural network\n",
        "print(\"Fitting the classifier to the training set\")\n",
        "clf = MLPClassifier(hidden_layer_sizes=(300,), max_iter=500, alpha=1e-4, solver='adam', tol=1e-4, random_state=0).fit(X_train_nmf, y_train)  \n",
        "# Sử dụng mô hình mạng neuron đa tầng để phân loại khuôn mặt\n",
        "\n",
        "y_pred = clf.predict(X_test_nmf)  # Dự đoán nhãn cho testing set\n",
        "\n",
        "print(classification_report(y_test, y_pred, target_names = target_names))  # Báo cáo đánh giá mô hình\n",
        "\n",
        "#Visualization"
      ]
    },
    {
      "cell_type": "code",
      "execution_count": 24,
      "metadata": {
        "colab": {
          "base_uri": "https://localhost:8080/",
          "height": 901
        },
        "id": "vdiEycJkclLb",
        "outputId": "b8b7beb4-b3f4-46cb-947c-780cefd6d768"
      },
      "outputs": [
        {
          "ename": "TypeError",
          "evalue": "'list' object cannot be interpreted as an integer",
          "output_type": "error",
          "traceback": [
            "\u001b[1;31m---------------------------------------------------------------------------\u001b[0m",
            "\u001b[1;31mTypeError\u001b[0m                                 Traceback (most recent call last)",
            "Cell \u001b[1;32mIn [24], line 18\u001b[0m\n\u001b[0;32m     15\u001b[0m         \u001b[38;5;28;01myield\u001b[39;00m \u001b[38;5;124m'\u001b[39m\u001b[38;5;124mpredicted: \u001b[39m\u001b[38;5;132;01m{0}\u001b[39;00m\u001b[38;5;130;01m\\n\u001b[39;00m\u001b[38;5;124mtrue: \u001b[39m\u001b[38;5;132;01m{1}\u001b[39;00m\u001b[38;5;124m'\u001b[39m\u001b[38;5;241m.\u001b[39mformat(pred_name, true_name)\n\u001b[0;32m     17\u001b[0m prediction_titles \u001b[38;5;241m=\u001b[39m \u001b[38;5;28mlist\u001b[39m(titles(y_pred, y_test, target_names))\n\u001b[1;32m---> 18\u001b[0m \u001b[43mplot_gallery\u001b[49m\u001b[43m(\u001b[49m\u001b[43mX_test\u001b[49m\u001b[43m,\u001b[49m\u001b[43m \u001b[49m\u001b[43mprediction_titles\u001b[49m\u001b[43m,\u001b[49m\u001b[43m \u001b[49m\u001b[43mh\u001b[49m\u001b[43m,\u001b[49m\u001b[43m \u001b[49m\u001b[43mw\u001b[49m\u001b[43m)\u001b[49m\n\u001b[0;32m     19\u001b[0m plt\u001b[38;5;241m.\u001b[39mshow()\n",
            "Cell \u001b[1;32mIn [24], line 6\u001b[0m, in \u001b[0;36mplot_gallery\u001b[1;34m(images, h, w, rows, cols)\u001b[0m\n\u001b[0;32m      4\u001b[0m \u001b[38;5;28;01mfor\u001b[39;00m i \u001b[38;5;129;01min\u001b[39;00m \u001b[38;5;28mrange\u001b[39m(rows \u001b[38;5;241m*\u001b[39m cols):\n\u001b[0;32m      5\u001b[0m     plt\u001b[38;5;241m.\u001b[39msubplot(rows, cols, i \u001b[38;5;241m+\u001b[39m \u001b[38;5;241m1\u001b[39m)\n\u001b[1;32m----> 6\u001b[0m     plt\u001b[38;5;241m.\u001b[39mimshow(\u001b[43mimages\u001b[49m\u001b[43m[\u001b[49m\u001b[43mi\u001b[49m\u001b[43m]\u001b[49m\u001b[38;5;241;43m.\u001b[39;49m\u001b[43mreshape\u001b[49m\u001b[43m(\u001b[49m\u001b[43m(\u001b[49m\u001b[43mh\u001b[49m\u001b[43m,\u001b[49m\u001b[43mw\u001b[49m\u001b[43m)\u001b[49m\u001b[43m)\u001b[49m, cmap\u001b[38;5;241m=\u001b[39mplt\u001b[38;5;241m.\u001b[39mcm\u001b[38;5;241m.\u001b[39mgray)\n\u001b[0;32m      7\u001b[0m     \u001b[38;5;66;03m# plt.title(titles[i],size = 12)\u001b[39;00m\n\u001b[0;32m      8\u001b[0m     plt\u001b[38;5;241m.\u001b[39mxticks(())\n",
            "\u001b[1;31mTypeError\u001b[0m: 'list' object cannot be interpreted as an integer"
          ]
        },
        {
          "data": {
            "image/png": "[encoded data removed]",
            "text/plain": [
              "<Figure size 900x11280 with 1 Axes>"
            ]
          },
          "metadata": {},
          "output_type": "display_data"
        }
      ],
      "source": [
        "def plot_gallery(images, h, w, rows = 4, cols = 5):\n",
        "    plt.figure(figsize = (1.8 * cols, 2.4 * rows))\n",
        "    plt.subplots_adjust(bottom = 0, left = .01, right = .90, top = .90, hspace= .35)\n",
        "    for i in range(rows * cols):\n",
        "        plt.subplot(rows, cols, i + 1)\n",
        "        plt.imshow(images[i].reshape((h,w)), cmap=plt.cm.gray)\n",
        "        # plt.title(titles[i],size = 12)\n",
        "        plt.xticks(())\n",
        "        plt.yticks(())\n",
        "\n",
        "def titles(y_pred, y_test, target_names):\n",
        "    for i in range(y_pred.shape[0]):\n",
        "        pred_name = target_names[y_pred[i]].split(' ')[-1]\n",
        "        true_name = target_names[y_test[i]].split(' ')[-1]\n",
        "        yield 'predicted: {0}\\ntrue: {1}'.format(pred_name, true_name)\n",
        "\n",
        "prediction_titles = list(titles(y_pred, y_test, target_names))\n",
        "plot_gallery(X_test, prediction_titles, h, w)\n",
        "plt.show()"
      ]
    },
    {
      "cell_type": "code",
      "execution_count": 15,
      "metadata": {
        "id": "CtY27KWad1Po"
      },
      "outputs": [],
      "source": [
        "def plot_50_images(V, image_shape):\n",
        "    \"\"\"\n",
        "    Display 50 random images from matrix V in a 10x5 grid format.\n",
        "    \"\"\"\n",
        "    # \"Randomly select 50 indices of images\n",
        "    idx = np.random.choice(V.shape[1], size=50, replace=False)\n",
        "    \n",
        "    # Create figure and axes\n",
        "    fig, ax = plt.subplots(5, 10, figsize=(image_shape[0]/5, image_shape[1]/5))\n",
        "    fig.subplots_adjust(hspace=-0.44, wspace=0.1)\n",
        "    \n",
        "    # Display the 50 images corresponding to the randomly selected indices.\n",
        "    for i, axi in enumerate(ax.flat):\n",
        "        if i < 50:\n",
        "            axi.imshow(np.reshape(V[:, idx[i]], image_shape), cmap=\"gray\")\n",
        "            axi.axis(\"off\")"
      ]
    },
    {
      "cell_type": "code",
      "execution_count": 19,
      "metadata": {
        "colab": {
          "base_uri": "https://localhost:8080/",
          "height": 867
        },
        "id": "EYMp7y5fd1_x",
        "outputId": "0b6fc649-fd4d-4161-ac56-6b45ac18a98a"
      },
      "outputs": [
        {
          "name": "stdout",
          "output_type": "stream",
          "text": [
            "(20, 2914)\n"
          ]
        }
      ],
      "source": [
        "eigenfaces = nmf.components_#.reshape((n_components, h, w))\n",
        "# eigenface_titles = [\"eigenface {0}\".format(i) for i in range(eigenfaces.shape[0])]\n",
        "# plot_gallery(eigenfaces, h, w)\n",
        "print(eigenfaces.shape)"
      ]
    },
    {
      "cell_type": "code",
      "execution_count": 14,
      "metadata": {
        "id": "ONJOIDbYd6NU"
      },
      "outputs": [],
      "source": [
        "def plot_gallery(images, h, w, rows = 4, cols = 5):\n",
        "    plt.figure(figsize = (1.8 * cols, 2.4 * rows))\n",
        "    plt.subplots_adjust(bottom = 0, left = .01, right = .90, top = .90, hspace= .0)\n",
        "    for i in range(rows * cols):\n",
        "        plt.subplot(rows, cols, i + 1)\n",
        "        plt.imshow(images[i].reshape((h,w)), cmap=plt.cm.gray)\n",
        "        # plt.title(titles[i],size = 12)\n",
        "        plt.xticks(())\n",
        "        plt.yticks(())"
      ]
    }
  ],
  "metadata": {
    "colab": {
      "provenance": []
    },
    "kernelspec": {
      "display_name": "Python 3.9.1 64-bit",
      "language": "python",
      "name": "python3"
    },
    "language_info": {
      "codemirror_mode": {
        "name": "ipython",
        "version": 3
      },
      "file_extension": ".py",
      "mimetype": "text/x-python",
      "name": "python",
      "nbconvert_exporter": "python",
      "pygments_lexer": "ipython3",
      "version": "3.9.1"
    },
    "vscode": {
      "interpreter": {
        "hash": "530478d8c35344c29dc89412d29db80a41ae86fa2b85395f63f196569b6b9ead"
      }
    }
  },
  "nbformat": 4,
  "nbformat_minor": 0
}
